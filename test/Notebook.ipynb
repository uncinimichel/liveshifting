{
 "cells": [
  {
   "cell_type": "code",
   "execution_count": 158,
   "metadata": {},
   "outputs": [],
   "source": [
    "import pandas as pd\n",
    "import numpy as np\n",
    "from datetime import datetime\n"
   ]
  },
  {
   "cell_type": "code",
   "execution_count": 95,
   "metadata": {},
   "outputs": [],
   "source": [
    "import matplotlib.pyplot as plt\n",
    "plt.close('all')"
   ]
  },
  {
   "cell_type": "code",
   "execution_count": 96,
   "metadata": {},
   "outputs": [],
   "source": [
    "%matplotlib inline"
   ]
  },
  {
   "cell_type": "code",
   "execution_count": 97,
   "metadata": {},
   "outputs": [],
   "source": [
    "df = pd.read_csv(\"./download/example.csv\")"
   ]
  },
  {
   "cell_type": "code",
   "execution_count": 98,
   "metadata": {},
   "outputs": [
    {
     "name": "stdout",
     "output_type": "stream",
     "text": [
      "<class 'pandas.core.frame.DataFrame'>\n",
      "RangeIndex: 24792 entries, 0 to 24791\n",
      "Data columns (total 7 columns):\n",
      "Unnamed: 0      24792 non-null int64\n",
      "s3_keys         24792 non-null object\n",
      "date            24792 non-null object\n",
      "timestamp       24792 non-null int64\n",
      "image_format    24792 non-null object\n",
      "human_date      24792 non-null object\n",
      "simple_keys     24792 non-null object\n",
      "dtypes: int64(2), object(5)\n",
      "memory usage: 1.3+ MB\n"
     ]
    }
   ],
   "source": [
    "df.info()"
   ]
  },
  {
   "cell_type": "code",
   "execution_count": 99,
   "metadata": {},
   "outputs": [
    {
     "data": {
      "text/html": [
       "<div>\n",
       "<style scoped>\n",
       "    .dataframe tbody tr th:only-of-type {\n",
       "        vertical-align: middle;\n",
       "    }\n",
       "\n",
       "    .dataframe tbody tr th {\n",
       "        vertical-align: top;\n",
       "    }\n",
       "\n",
       "    .dataframe thead th {\n",
       "        text-align: right;\n",
       "    }\n",
       "</style>\n",
       "<table border=\"1\" class=\"dataframe\">\n",
       "  <thead>\n",
       "    <tr style=\"text-align: right;\">\n",
       "      <th></th>\n",
       "      <th>Unnamed: 0</th>\n",
       "      <th>s3_keys</th>\n",
       "      <th>date</th>\n",
       "      <th>timestamp</th>\n",
       "      <th>image_format</th>\n",
       "      <th>human_date</th>\n",
       "      <th>simple_keys</th>\n",
       "    </tr>\n",
       "  </thead>\n",
       "  <tbody>\n",
       "    <tr>\n",
       "      <th>0</th>\n",
       "      <td>0</td>\n",
       "      <td>2019-04-01/1554115423.jpeg</td>\n",
       "      <td>2019-04-01</td>\n",
       "      <td>1554115423</td>\n",
       "      <td>jpeg</td>\n",
       "      <td>2019-04-01 10:43:43</td>\n",
       "      <td>1554115423.jpeg</td>\n",
       "    </tr>\n",
       "    <tr>\n",
       "      <th>1</th>\n",
       "      <td>1</td>\n",
       "      <td>2019-04-01/1554115424.jpeg</td>\n",
       "      <td>2019-04-01</td>\n",
       "      <td>1554115424</td>\n",
       "      <td>jpeg</td>\n",
       "      <td>2019-04-01 10:43:44</td>\n",
       "      <td>1554115424.jpeg</td>\n",
       "    </tr>\n",
       "    <tr>\n",
       "      <th>2</th>\n",
       "      <td>2</td>\n",
       "      <td>2019-04-01/1554115425.jpeg</td>\n",
       "      <td>2019-04-01</td>\n",
       "      <td>1554115425</td>\n",
       "      <td>jpeg</td>\n",
       "      <td>2019-04-01 10:43:45</td>\n",
       "      <td>1554115425.jpeg</td>\n",
       "    </tr>\n",
       "    <tr>\n",
       "      <th>3</th>\n",
       "      <td>3</td>\n",
       "      <td>2019-04-01/1554115426.jpeg</td>\n",
       "      <td>2019-04-01</td>\n",
       "      <td>1554115426</td>\n",
       "      <td>jpeg</td>\n",
       "      <td>2019-04-01 10:43:46</td>\n",
       "      <td>1554115426.jpeg</td>\n",
       "    </tr>\n",
       "    <tr>\n",
       "      <th>4</th>\n",
       "      <td>4</td>\n",
       "      <td>2019-04-01/1554115427.jpeg</td>\n",
       "      <td>2019-04-01</td>\n",
       "      <td>1554115427</td>\n",
       "      <td>jpeg</td>\n",
       "      <td>2019-04-01 10:43:47</td>\n",
       "      <td>1554115427.jpeg</td>\n",
       "    </tr>\n",
       "  </tbody>\n",
       "</table>\n",
       "</div>"
      ],
      "text/plain": [
       "   Unnamed: 0                     s3_keys        date   timestamp  \\\n",
       "0           0  2019-04-01/1554115423.jpeg  2019-04-01  1554115423   \n",
       "1           1  2019-04-01/1554115424.jpeg  2019-04-01  1554115424   \n",
       "2           2  2019-04-01/1554115425.jpeg  2019-04-01  1554115425   \n",
       "3           3  2019-04-01/1554115426.jpeg  2019-04-01  1554115426   \n",
       "4           4  2019-04-01/1554115427.jpeg  2019-04-01  1554115427   \n",
       "\n",
       "  image_format           human_date      simple_keys  \n",
       "0         jpeg  2019-04-01 10:43:43  1554115423.jpeg  \n",
       "1         jpeg  2019-04-01 10:43:44  1554115424.jpeg  \n",
       "2         jpeg  2019-04-01 10:43:45  1554115425.jpeg  \n",
       "3         jpeg  2019-04-01 10:43:46  1554115426.jpeg  \n",
       "4         jpeg  2019-04-01 10:43:47  1554115427.jpeg  "
      ]
     },
     "execution_count": 99,
     "metadata": {},
     "output_type": "execute_result"
    }
   ],
   "source": [
    "df.head()"
   ]
  },
  {
   "cell_type": "code",
   "execution_count": 100,
   "metadata": {},
   "outputs": [
    {
     "data": {
      "text/html": [
       "<div>\n",
       "<style scoped>\n",
       "    .dataframe tbody tr th:only-of-type {\n",
       "        vertical-align: middle;\n",
       "    }\n",
       "\n",
       "    .dataframe tbody tr th {\n",
       "        vertical-align: top;\n",
       "    }\n",
       "\n",
       "    .dataframe thead th {\n",
       "        text-align: right;\n",
       "    }\n",
       "</style>\n",
       "<table border=\"1\" class=\"dataframe\">\n",
       "  <thead>\n",
       "    <tr style=\"text-align: right;\">\n",
       "      <th></th>\n",
       "      <th>Unnamed: 0</th>\n",
       "      <th>s3_keys</th>\n",
       "      <th>date</th>\n",
       "      <th>timestamp</th>\n",
       "      <th>image_format</th>\n",
       "      <th>human_date</th>\n",
       "      <th>simple_keys</th>\n",
       "    </tr>\n",
       "  </thead>\n",
       "  <tbody>\n",
       "    <tr>\n",
       "      <th>24791</th>\n",
       "      <td>24791</td>\n",
       "      <td>2019-04-07/1554618598.jpeg</td>\n",
       "      <td>2019-04-07</td>\n",
       "      <td>1554618598</td>\n",
       "      <td>jpeg</td>\n",
       "      <td>2019-04-07 06:29:58</td>\n",
       "      <td>1554618598.jpeg</td>\n",
       "    </tr>\n",
       "    <tr>\n",
       "      <th>24790</th>\n",
       "      <td>24790</td>\n",
       "      <td>2019-04-07/1554618597.jpeg</td>\n",
       "      <td>2019-04-07</td>\n",
       "      <td>1554618597</td>\n",
       "      <td>jpeg</td>\n",
       "      <td>2019-04-07 06:29:57</td>\n",
       "      <td>1554618597.jpeg</td>\n",
       "    </tr>\n",
       "    <tr>\n",
       "      <th>24789</th>\n",
       "      <td>24789</td>\n",
       "      <td>2019-04-07/1554618596.jpeg</td>\n",
       "      <td>2019-04-07</td>\n",
       "      <td>1554618596</td>\n",
       "      <td>jpeg</td>\n",
       "      <td>2019-04-07 06:29:56</td>\n",
       "      <td>1554618596.jpeg</td>\n",
       "    </tr>\n",
       "    <tr>\n",
       "      <th>24788</th>\n",
       "      <td>24788</td>\n",
       "      <td>2019-04-07/1554618595.jpeg</td>\n",
       "      <td>2019-04-07</td>\n",
       "      <td>1554618595</td>\n",
       "      <td>jpeg</td>\n",
       "      <td>2019-04-07 06:29:55</td>\n",
       "      <td>1554618595.jpeg</td>\n",
       "    </tr>\n",
       "    <tr>\n",
       "      <th>24787</th>\n",
       "      <td>24787</td>\n",
       "      <td>2019-04-07/1554618594.jpeg</td>\n",
       "      <td>2019-04-07</td>\n",
       "      <td>1554618594</td>\n",
       "      <td>jpeg</td>\n",
       "      <td>2019-04-07 06:29:54</td>\n",
       "      <td>1554618594.jpeg</td>\n",
       "    </tr>\n",
       "  </tbody>\n",
       "</table>\n",
       "</div>"
      ],
      "text/plain": [
       "       Unnamed: 0                     s3_keys        date   timestamp  \\\n",
       "24791       24791  2019-04-07/1554618598.jpeg  2019-04-07  1554618598   \n",
       "24790       24790  2019-04-07/1554618597.jpeg  2019-04-07  1554618597   \n",
       "24789       24789  2019-04-07/1554618596.jpeg  2019-04-07  1554618596   \n",
       "24788       24788  2019-04-07/1554618595.jpeg  2019-04-07  1554618595   \n",
       "24787       24787  2019-04-07/1554618594.jpeg  2019-04-07  1554618594   \n",
       "\n",
       "      image_format           human_date      simple_keys  \n",
       "24791         jpeg  2019-04-07 06:29:58  1554618598.jpeg  \n",
       "24790         jpeg  2019-04-07 06:29:57  1554618597.jpeg  \n",
       "24789         jpeg  2019-04-07 06:29:56  1554618596.jpeg  \n",
       "24788         jpeg  2019-04-07 06:29:55  1554618595.jpeg  \n",
       "24787         jpeg  2019-04-07 06:29:54  1554618594.jpeg  "
      ]
     },
     "execution_count": 100,
     "metadata": {},
     "output_type": "execute_result"
    }
   ],
   "source": [
    "df.sort_values(by=[\"timestamp\"], ascending=False).head()"
   ]
  },
  {
   "cell_type": "code",
   "execution_count": 101,
   "metadata": {},
   "outputs": [
    {
     "data": {
      "text/plain": [
       "(1554618598, 1554115423)"
      ]
     },
     "execution_count": 101,
     "metadata": {},
     "output_type": "execute_result"
    }
   ],
   "source": [
    "df[\"timestamp\"].max(), df[\"timestamp\"].min()"
   ]
  },
  {
   "cell_type": "code",
   "execution_count": 201,
   "metadata": {},
   "outputs": [],
   "source": [
    "df[\"bucketing\"] = pd.cut(df[\"timestamp\"], 15)"
   ]
  },
  {
   "cell_type": "code",
   "execution_count": 202,
   "metadata": {},
   "outputs": [
    {
     "data": {
      "text/plain": [
       "bucketing\n",
       "(1554114919.825, 1554148968.0]     3668\n",
       "(1554148968.0, 1554182513.0]          0\n",
       "(1554182513.0, 1554216058.0]          0\n",
       "(1554216058.0, 1554249603.0]          0\n",
       "(1554249603.0, 1554283148.0]          0\n",
       "(1554283148.0, 1554316693.0]          0\n",
       "(1554316693.0, 1554350238.0]          0\n",
       "(1554350238.0, 1554383783.0]         42\n",
       "(1554383783.0, 1554417328.0]        141\n",
       "(1554417328.0, 1554450873.0]       3126\n",
       "(1554450873.0, 1554484418.0]       1718\n",
       "(1554484418.0, 1554517963.0]      14526\n",
       "(1554517963.0, 1554551508.0]        289\n",
       "(1554551508.0, 1554585053.0]        403\n",
       "(1554585053.0, 1554618598.0]        879\n",
       "dtype: int64"
      ]
     },
     "execution_count": 202,
     "metadata": {},
     "output_type": "execute_result"
    }
   ],
   "source": [
    "# df['timestamp'].cat.categories    \n",
    "df.groupby('bucketing').size()"
   ]
  },
  {
   "cell_type": "code",
   "execution_count": 203,
   "metadata": {},
   "outputs": [],
   "source": [
    "get_human_date = lambda ts : datetime.utcfromtimestamp(int(ts)).strftime('%Y-%m-%d %H:%M:%S')"
   ]
  },
  {
   "cell_type": "code",
   "execution_count": 237,
   "metadata": {},
   "outputs": [
    {
     "data": {
      "image/png": "[encoded data removed]",
      "text/plain": [
       "<Figure size 432x288 with 1 Axes>"
      ]
     },
     "metadata": {},
     "output_type": "display_data"
    }
   ],
   "source": [
    "plt.style.use('ggplot')\n",
    "\n",
    "a = df.groupby('bucketing').size()\n",
    "\n",
    "categories = df['bucketing'].cat.categories\n",
    "labels = np.array([ get_human_date(x.left)+\"--\"+ get_human_date(x.right) for x in categories])\n",
    "\n",
    "ind = np.array([x for x, _ in enumerate(categories)])\n",
    "width = 0.45       \n",
    "plt.bar(ind, a.sort_values(), width, label='bucketingtimestamp')\n",
    "\n",
    "plt.xticks(ind + width / 2, labels)\n",
    "plt.legend(loc='best')\n",
    "plt.xticks(rotation = 90)\n",
    "plt.show()\n"
   ]
  },
  {
   "cell_type": "code",
   "execution_count": 232,
   "metadata": {},
   "outputs": [
    {
     "data": {
      "text/plain": [
       "bucketing\n",
       "(1554148968.0, 1554182513.0]          0\n",
       "(1554182513.0, 1554216058.0]          0\n",
       "(1554216058.0, 1554249603.0]          0\n",
       "(1554249603.0, 1554283148.0]          0\n",
       "(1554283148.0, 1554316693.0]          0\n",
       "(1554316693.0, 1554350238.0]          0\n",
       "(1554350238.0, 1554383783.0]         42\n",
       "(1554383783.0, 1554417328.0]        141\n",
       "(1554517963.0, 1554551508.0]        289\n",
       "(1554551508.0, 1554585053.0]        403\n",
       "(1554585053.0, 1554618598.0]        879\n",
       "(1554450873.0, 1554484418.0]       1718\n",
       "(1554417328.0, 1554450873.0]       3126\n",
       "(1554114919.825, 1554148968.0]     3668\n",
       "(1554484418.0, 1554517963.0]      14526\n",
       "dtype: int64"
      ]
     },
     "execution_count": 232,
     "metadata": {},
     "output_type": "execute_result"
    }
   ],
   "source": [
    "a.sort_values()"
   ]
  },
  {
   "cell_type": "code",
   "execution_count": null,
   "metadata": {},
   "outputs": [],
   "source": []
  },
  {
   "cell_type": "code",
   "execution_count": null,
   "metadata": {},
   "outputs": [],
   "source": []
  }
 ],
 "metadata": {
  "kernelspec": {
   "display_name": "Python 3",
   "language": "python",
   "name": "python3"
  },
  "language_info": {
   "codemirror_mode": {
    "name": "ipython",
    "version": 3
   },
   "file_extension": ".py",
   "mimetype": "text/x-python",
   "name": "python",
   "nbconvert_exporter": "python",
   "pygments_lexer": "ipython3",
   "version": "3.7.2"
  }
 },
 "nbformat": 4,
 "nbformat_minor": 2
}
